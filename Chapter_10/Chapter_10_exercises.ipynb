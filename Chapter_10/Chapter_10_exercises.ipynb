{
 "cells": [
  {
   "cell_type": "markdown",
   "metadata": {},
   "source": [
    "1. I think no, since all updates in backprop would be the same and effectively there would only be one layer with one parameter\n",
    "\n",
    "___\n",
    "\n",
    "The effect is more like reducing to one node per layer. Sidebar on page 291."
   ]
  },
  {
   "cell_type": "markdown",
   "metadata": {},
   "source": [
    "2. This is what is done in TensorFlow by default, and the book says it's \"fine\". I suppose the symmetry is already broken by random initialization of the weights?"
   ]
  },
  {
   "cell_type": "markdown",
   "metadata": {},
   "source": [
    "3. SELU is Scaled Exponential Linear Unit. Three advantages over ReLU:\n",
    "\n",
    "    1. As an exponential linear unit, it would have a non-zero gradient everywhere, avoiding dead neurons (leaky ReLU solves that problem as well, though).\n",
    "    2. is differentiable everywhere, leading to faster convergence (no bouncing around zero, although I think that should only be a problem for ReLU, not leaky ReLU).\n",
    "    3. preserves a mean of zero and standard deviation of one, avoiding exploding gradients."
   ]
  },
  {
   "cell_type": "code",
   "execution_count": null,
   "metadata": {},
   "outputs": [],
   "source": []
  }
 ],
 "metadata": {
  "kernelspec": {
   "display_name": "Python 3",
   "language": "python",
   "name": "python3"
  },
  "language_info": {
   "codemirror_mode": {
    "name": "ipython",
    "version": 3
   },
   "file_extension": ".py",
   "mimetype": "text/x-python",
   "name": "python",
   "nbconvert_exporter": "python",
   "pygments_lexer": "ipython3",
   "version": "3.7.4"
  }
 },
 "nbformat": 4,
 "nbformat_minor": 2
}
